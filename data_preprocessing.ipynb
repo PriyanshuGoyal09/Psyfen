{
 "cells": [
  {
   "cell_type": "code",
   "execution_count": 2,
   "metadata": {
    "executionInfo": {
     "elapsed": 9,
     "status": "ok",
     "timestamp": 1697610578780,
     "user": {
      "displayName": "Priyanshu Goyal",
      "userId": "03450676628574741574"
     },
     "user_tz": -330
    },
    "id": "qgpTK6KGtE2G"
   },
   "outputs": [],
   "source": [
    "#!pip install transformers"
   ]
  },
  {
   "cell_type": "code",
   "execution_count": 3,
   "metadata": {
    "colab": {
     "base_uri": "https://localhost:8080/"
    },
    "executionInfo": {
     "elapsed": 22140,
     "status": "ok",
     "timestamp": 1697610600911,
     "user": {
      "displayName": "Priyanshu Goyal",
      "userId": "03450676628574741574"
     },
     "user_tz": -330
    },
    "id": "b2RPMg3vNpkQ",
    "outputId": "26e593d9-0d23-430e-d872-588d13089107"
   },
   "outputs": [
    {
     "name": "stdout",
     "output_type": "stream",
     "text": [
      "Requirement already satisfied: spacy in /usr/local/lib/python3.10/dist-packages (3.6.1)\n",
      "Requirement already satisfied: spacy-legacy<3.1.0,>=3.0.11 in /usr/local/lib/python3.10/dist-packages (from spacy) (3.0.12)\n",
      "Requirement already satisfied: spacy-loggers<2.0.0,>=1.0.0 in /usr/local/lib/python3.10/dist-packages (from spacy) (1.0.5)\n",
      "Requirement already satisfied: murmurhash<1.1.0,>=0.28.0 in /usr/local/lib/python3.10/dist-packages (from spacy) (1.0.10)\n",
      "Requirement already satisfied: cymem<2.1.0,>=2.0.2 in /usr/local/lib/python3.10/dist-packages (from spacy) (2.0.8)\n",
      "Requirement already satisfied: preshed<3.1.0,>=3.0.2 in /usr/local/lib/python3.10/dist-packages (from spacy) (3.0.9)\n",
      "Requirement already satisfied: thinc<8.2.0,>=8.1.8 in /usr/local/lib/python3.10/dist-packages (from spacy) (8.1.12)\n",
      "Requirement already satisfied: wasabi<1.2.0,>=0.9.1 in /usr/local/lib/python3.10/dist-packages (from spacy) (1.1.2)\n",
      "Requirement already satisfied: srsly<3.0.0,>=2.4.3 in /usr/local/lib/python3.10/dist-packages (from spacy) (2.4.8)\n",
      "Requirement already satisfied: catalogue<2.1.0,>=2.0.6 in /usr/local/lib/python3.10/dist-packages (from spacy) (2.0.10)\n",
      "Requirement already satisfied: typer<0.10.0,>=0.3.0 in /usr/local/lib/python3.10/dist-packages (from spacy) (0.9.0)\n",
      "Requirement already satisfied: pathy>=0.10.0 in /usr/local/lib/python3.10/dist-packages (from spacy) (0.10.2)\n",
      "Requirement already satisfied: smart-open<7.0.0,>=5.2.1 in /usr/local/lib/python3.10/dist-packages (from spacy) (6.4.0)\n",
      "Requirement already satisfied: tqdm<5.0.0,>=4.38.0 in /usr/local/lib/python3.10/dist-packages (from spacy) (4.66.1)\n",
      "Requirement already satisfied: numpy>=1.15.0 in /usr/local/lib/python3.10/dist-packages (from spacy) (1.23.5)\n",
      "Requirement already satisfied: requests<3.0.0,>=2.13.0 in /usr/local/lib/python3.10/dist-packages (from spacy) (2.31.0)\n",
      "Requirement already satisfied: pydantic!=1.8,!=1.8.1,<3.0.0,>=1.7.4 in /usr/local/lib/python3.10/dist-packages (from spacy) (1.10.13)\n",
      "Requirement already satisfied: jinja2 in /usr/local/lib/python3.10/dist-packages (from spacy) (3.1.2)\n",
      "Requirement already satisfied: setuptools in /usr/local/lib/python3.10/dist-packages (from spacy) (67.7.2)\n",
      "Requirement already satisfied: packaging>=20.0 in /usr/local/lib/python3.10/dist-packages (from spacy) (23.2)\n",
      "Requirement already satisfied: langcodes<4.0.0,>=3.2.0 in /usr/local/lib/python3.10/dist-packages (from spacy) (3.3.0)\n",
      "Requirement already satisfied: typing-extensions>=4.2.0 in /usr/local/lib/python3.10/dist-packages (from pydantic!=1.8,!=1.8.1,<3.0.0,>=1.7.4->spacy) (4.5.0)\n",
      "Requirement already satisfied: charset-normalizer<4,>=2 in /usr/local/lib/python3.10/dist-packages (from requests<3.0.0,>=2.13.0->spacy) (3.3.0)\n",
      "Requirement already satisfied: idna<4,>=2.5 in /usr/local/lib/python3.10/dist-packages (from requests<3.0.0,>=2.13.0->spacy) (3.4)\n",
      "Requirement already satisfied: urllib3<3,>=1.21.1 in /usr/local/lib/python3.10/dist-packages (from requests<3.0.0,>=2.13.0->spacy) (2.0.6)\n",
      "Requirement already satisfied: certifi>=2017.4.17 in /usr/local/lib/python3.10/dist-packages (from requests<3.0.0,>=2.13.0->spacy) (2023.7.22)\n",
      "Requirement already satisfied: blis<0.8.0,>=0.7.8 in /usr/local/lib/python3.10/dist-packages (from thinc<8.2.0,>=8.1.8->spacy) (0.7.11)\n",
      "Requirement already satisfied: confection<1.0.0,>=0.0.1 in /usr/local/lib/python3.10/dist-packages (from thinc<8.2.0,>=8.1.8->spacy) (0.1.3)\n",
      "Requirement already satisfied: click<9.0.0,>=7.1.1 in /usr/local/lib/python3.10/dist-packages (from typer<0.10.0,>=0.3.0->spacy) (8.1.7)\n",
      "Requirement already satisfied: MarkupSafe>=2.0 in /usr/local/lib/python3.10/dist-packages (from jinja2->spacy) (2.1.3)\n",
      "2023-10-18 06:29:47.444752: I tensorflow/core/platform/cpu_feature_guard.cc:182] This TensorFlow binary is optimized to use available CPU instructions in performance-critical operations.\n",
      "To enable the following instructions: AVX2 FMA, in other operations, rebuild TensorFlow with the appropriate compiler flags.\n",
      "2023-10-18 06:29:48.946376: W tensorflow/compiler/tf2tensorrt/utils/py_utils.cc:38] TF-TRT Warning: Could not find TensorRT\n",
      "Collecting en-core-web-sm==3.6.0\n",
      "  Downloading https://github.com/explosion/spacy-models/releases/download/en_core_web_sm-3.6.0/en_core_web_sm-3.6.0-py3-none-any.whl (12.8 MB)\n",
      "\u001b[2K     \u001b[90m━━━━━━━━━━━━━━━━━━━━━━━━━━━━━━━━━━━━━━━━\u001b[0m \u001b[32m12.8/12.8 MB\u001b[0m \u001b[31m95.7 MB/s\u001b[0m eta \u001b[36m0:00:00\u001b[0m\n",
      "\u001b[?25hRequirement already satisfied: spacy<3.7.0,>=3.6.0 in /usr/local/lib/python3.10/dist-packages (from en-core-web-sm==3.6.0) (3.6.1)\n",
      "Requirement already satisfied: spacy-legacy<3.1.0,>=3.0.11 in /usr/local/lib/python3.10/dist-packages (from spacy<3.7.0,>=3.6.0->en-core-web-sm==3.6.0) (3.0.12)\n",
      "Requirement already satisfied: spacy-loggers<2.0.0,>=1.0.0 in /usr/local/lib/python3.10/dist-packages (from spacy<3.7.0,>=3.6.0->en-core-web-sm==3.6.0) (1.0.5)\n",
      "Requirement already satisfied: murmurhash<1.1.0,>=0.28.0 in /usr/local/lib/python3.10/dist-packages (from spacy<3.7.0,>=3.6.0->en-core-web-sm==3.6.0) (1.0.10)\n",
      "Requirement already satisfied: cymem<2.1.0,>=2.0.2 in /usr/local/lib/python3.10/dist-packages (from spacy<3.7.0,>=3.6.0->en-core-web-sm==3.6.0) (2.0.8)\n",
      "Requirement already satisfied: preshed<3.1.0,>=3.0.2 in /usr/local/lib/python3.10/dist-packages (from spacy<3.7.0,>=3.6.0->en-core-web-sm==3.6.0) (3.0.9)\n",
      "Requirement already satisfied: thinc<8.2.0,>=8.1.8 in /usr/local/lib/python3.10/dist-packages (from spacy<3.7.0,>=3.6.0->en-core-web-sm==3.6.0) (8.1.12)\n",
      "Requirement already satisfied: wasabi<1.2.0,>=0.9.1 in /usr/local/lib/python3.10/dist-packages (from spacy<3.7.0,>=3.6.0->en-core-web-sm==3.6.0) (1.1.2)\n",
      "Requirement already satisfied: srsly<3.0.0,>=2.4.3 in /usr/local/lib/python3.10/dist-packages (from spacy<3.7.0,>=3.6.0->en-core-web-sm==3.6.0) (2.4.8)\n",
      "Requirement already satisfied: catalogue<2.1.0,>=2.0.6 in /usr/local/lib/python3.10/dist-packages (from spacy<3.7.0,>=3.6.0->en-core-web-sm==3.6.0) (2.0.10)\n",
      "Requirement already satisfied: typer<0.10.0,>=0.3.0 in /usr/local/lib/python3.10/dist-packages (from spacy<3.7.0,>=3.6.0->en-core-web-sm==3.6.0) (0.9.0)\n",
      "Requirement already satisfied: pathy>=0.10.0 in /usr/local/lib/python3.10/dist-packages (from spacy<3.7.0,>=3.6.0->en-core-web-sm==3.6.0) (0.10.2)\n",
      "Requirement already satisfied: smart-open<7.0.0,>=5.2.1 in /usr/local/lib/python3.10/dist-packages (from spacy<3.7.0,>=3.6.0->en-core-web-sm==3.6.0) (6.4.0)\n",
      "Requirement already satisfied: tqdm<5.0.0,>=4.38.0 in /usr/local/lib/python3.10/dist-packages (from spacy<3.7.0,>=3.6.0->en-core-web-sm==3.6.0) (4.66.1)\n",
      "Requirement already satisfied: numpy>=1.15.0 in /usr/local/lib/python3.10/dist-packages (from spacy<3.7.0,>=3.6.0->en-core-web-sm==3.6.0) (1.23.5)\n",
      "Requirement already satisfied: requests<3.0.0,>=2.13.0 in /usr/local/lib/python3.10/dist-packages (from spacy<3.7.0,>=3.6.0->en-core-web-sm==3.6.0) (2.31.0)\n",
      "Requirement already satisfied: pydantic!=1.8,!=1.8.1,<3.0.0,>=1.7.4 in /usr/local/lib/python3.10/dist-packages (from spacy<3.7.0,>=3.6.0->en-core-web-sm==3.6.0) (1.10.13)\n",
      "Requirement already satisfied: jinja2 in /usr/local/lib/python3.10/dist-packages (from spacy<3.7.0,>=3.6.0->en-core-web-sm==3.6.0) (3.1.2)\n",
      "Requirement already satisfied: setuptools in /usr/local/lib/python3.10/dist-packages (from spacy<3.7.0,>=3.6.0->en-core-web-sm==3.6.0) (67.7.2)\n",
      "Requirement already satisfied: packaging>=20.0 in /usr/local/lib/python3.10/dist-packages (from spacy<3.7.0,>=3.6.0->en-core-web-sm==3.6.0) (23.2)\n",
      "Requirement already satisfied: langcodes<4.0.0,>=3.2.0 in /usr/local/lib/python3.10/dist-packages (from spacy<3.7.0,>=3.6.0->en-core-web-sm==3.6.0) (3.3.0)\n",
      "Requirement already satisfied: typing-extensions>=4.2.0 in /usr/local/lib/python3.10/dist-packages (from pydantic!=1.8,!=1.8.1,<3.0.0,>=1.7.4->spacy<3.7.0,>=3.6.0->en-core-web-sm==3.6.0) (4.5.0)\n",
      "Requirement already satisfied: charset-normalizer<4,>=2 in /usr/local/lib/python3.10/dist-packages (from requests<3.0.0,>=2.13.0->spacy<3.7.0,>=3.6.0->en-core-web-sm==3.6.0) (3.3.0)\n",
      "Requirement already satisfied: idna<4,>=2.5 in /usr/local/lib/python3.10/dist-packages (from requests<3.0.0,>=2.13.0->spacy<3.7.0,>=3.6.0->en-core-web-sm==3.6.0) (3.4)\n",
      "Requirement already satisfied: urllib3<3,>=1.21.1 in /usr/local/lib/python3.10/dist-packages (from requests<3.0.0,>=2.13.0->spacy<3.7.0,>=3.6.0->en-core-web-sm==3.6.0) (2.0.6)\n",
      "Requirement already satisfied: certifi>=2017.4.17 in /usr/local/lib/python3.10/dist-packages (from requests<3.0.0,>=2.13.0->spacy<3.7.0,>=3.6.0->en-core-web-sm==3.6.0) (2023.7.22)\n",
      "Requirement already satisfied: blis<0.8.0,>=0.7.8 in /usr/local/lib/python3.10/dist-packages (from thinc<8.2.0,>=8.1.8->spacy<3.7.0,>=3.6.0->en-core-web-sm==3.6.0) (0.7.11)\n",
      "Requirement already satisfied: confection<1.0.0,>=0.0.1 in /usr/local/lib/python3.10/dist-packages (from thinc<8.2.0,>=8.1.8->spacy<3.7.0,>=3.6.0->en-core-web-sm==3.6.0) (0.1.3)\n",
      "Requirement already satisfied: click<9.0.0,>=7.1.1 in /usr/local/lib/python3.10/dist-packages (from typer<0.10.0,>=0.3.0->spacy<3.7.0,>=3.6.0->en-core-web-sm==3.6.0) (8.1.7)\n",
      "Requirement already satisfied: MarkupSafe>=2.0 in /usr/local/lib/python3.10/dist-packages (from jinja2->spacy<3.7.0,>=3.6.0->en-core-web-sm==3.6.0) (2.1.3)\n",
      "\u001b[38;5;2m✔ Download and installation successful\u001b[0m\n",
      "You can now load the package via spacy.load('en_core_web_sm')\n"
     ]
    }
   ],
   "source": []
  },
  {
   "cell_type": "code",
   "execution_count": 4,
   "metadata": {
    "executionInfo": {
     "elapsed": 4135,
     "status": "ok",
     "timestamp": 1697610605030,
     "user": {
      "displayName": "Priyanshu Goyal",
      "userId": "03450676628574741574"
     },
     "user_tz": -330
    },
    "id": "dL4KUZ0uN0Ho"
   },
   "outputs": [],
   "source": [
    "import spacy\n",
    "nlp=spacy.load('en_core_web_sm')"
   ]
  },
  {
   "cell_type": "code",
   "execution_count": 5,
   "metadata": {
    "executionInfo": {
     "elapsed": 13,
     "status": "ok",
     "timestamp": 1697610605032,
     "user": {
      "displayName": "Priyanshu Goyal",
      "userId": "03450676628574741574"
     },
     "user_tz": -330
    },
    "id": "cVkknoeFs3Rj"
   },
   "outputs": [],
   "source": [
    "import re, json, os, itertools\n",
    "import numpy as np\n",
    "import pandas as pd\n",
    "#from transformers import AutoTokenizer, AutoModelForTokenClassification\n",
    "#from transformers import pipeline"
   ]
  },
  {
   "cell_type": "code",
   "execution_count": 6,
   "metadata": {
    "colab": {
     "base_uri": "https://localhost:8080/"
    },
    "executionInfo": {
     "elapsed": 4482,
     "status": "ok",
     "timestamp": 1697610609502,
     "user": {
      "displayName": "Priyanshu Goyal",
      "userId": "03450676628574741574"
     },
     "user_tz": -330
    },
    "id": "ZO425bMPI_Nd",
    "outputId": "d651e037-c178-487c-c748-b1407b91c1c8"
   },
   "outputs": [
    {
     "name": "stdout",
     "output_type": "stream",
     "text": [
      "Drive already mounted at /content/gdrive; to attempt to forcibly remount, call drive.mount(\"/content/gdrive\", force_remount=True).\n"
     ]
    }
   ],
   "source": [
    "from google.colab import drive\n",
    "drive.mount(\"/content/gdrive\")"
   ]
  },
  {
   "cell_type": "code",
   "execution_count": 7,
   "metadata": {
    "executionInfo": {
     "elapsed": 28,
     "status": "ok",
     "timestamp": 1697610610039,
     "user": {
      "displayName": "Priyanshu Goyal",
      "userId": "03450676628574741574"
     },
     "user_tz": -330
    },
    "id": "EEc97lcWyUW9"
   },
   "outputs": [],
   "source": [
    "#model = AutoModelForTokenClassification.from_pretrained(\"dslim/bert-base-NER\")"
   ]
  },
  {
   "cell_type": "code",
   "execution_count": 14,
   "metadata": {
    "executionInfo": {
     "elapsed": 524,
     "status": "ok",
     "timestamp": 1697611036564,
     "user": {
      "displayName": "Priyanshu Goyal",
      "userId": "03450676628574741574"
     },
     "user_tz": -330
    },
    "id": "6_WTHntutCby"
   },
   "outputs": [],
   "source": [
    "#kenizer = AutoTokenizer.from_pretrained(\"dslim/bert-base-NER\")\n",
    "df = pd.read_json ('projectdataset.jsonl', lines=True)\n",
    "#df2 = pd.read_json ('/gdrive/My Drive/project/mytest_project_dataset.jsonl', lines=True)"
   ]
  },
  {
   "cell_type": "code",
   "execution_count": 15,
   "metadata": {
    "colab": {
     "base_uri": "https://localhost:8080/",
     "height": 597
    },
    "executionInfo": {
     "elapsed": 789,
     "status": "ok",
     "timestamp": 1697611043077,
     "user": {
      "displayName": "Priyanshu Goyal",
      "userId": "03450676628574741574"
     },
     "user_tz": -330
    },
    "id": "vx1Grcuzty4h",
    "outputId": "5880adeb-55d3-4900-85db-ca4b64346e7d"
   },
   "outputs": [
    {
     "data": {
      "text/html": [
       "\n",
       "  <div id=\"df-a797031b-779c-4335-b107-d6f5be72e945\" class=\"colab-df-container\">\n",
       "    <div>\n",
       "<style scoped>\n",
       "    .dataframe tbody tr th:only-of-type {\n",
       "        vertical-align: middle;\n",
       "    }\n",
       "\n",
       "    .dataframe tbody tr th {\n",
       "        vertical-align: top;\n",
       "    }\n",
       "\n",
       "    .dataframe thead th {\n",
       "        text-align: right;\n",
       "    }\n",
       "</style>\n",
       "<table border=\"1\" class=\"dataframe\">\n",
       "  <thead>\n",
       "    <tr style=\"text-align: right;\">\n",
       "      <th></th>\n",
       "      <th>id</th>\n",
       "      <th>text</th>\n",
       "      <th>labels</th>\n",
       "    </tr>\n",
       "  </thead>\n",
       "  <tbody>\n",
       "    <tr>\n",
       "      <th>0</th>\n",
       "      <td>15501</td>\n",
       "      <td>Exhibit 99.1 JOINT FILING AGREEMENT The unders...</td>\n",
       "      <td>[[13, 35, DOC_NAME], [489, 505, AGMT_DATE], [5...</td>\n",
       "    </tr>\n",
       "    <tr>\n",
       "      <th>1</th>\n",
       "      <td>15502</td>\n",
       "      <td>[LOGO] AMENDMENT TO SECTION 2, PART B OF THE C...</td>\n",
       "      <td>[[7, 66, DOC_NAME], [166, 182, AGMT_DATE], [19...</td>\n",
       "    </tr>\n",
       "    <tr>\n",
       "      <th>2</th>\n",
       "      <td>15503</td>\n",
       "      <td>Exhibit 10.1 ENDORSEMENT AGREEMENT THIS ENDORS...</td>\n",
       "      <td>[[13, 34, DOC_NAME], [40, 61, DOC_NAME], [111,...</td>\n",
       "    </tr>\n",
       "    <tr>\n",
       "      <th>3</th>\n",
       "      <td>15504</td>\n",
       "      <td>Exhibit 10.6 TRADEMARK LICENSE AGREEMENT This ...</td>\n",
       "      <td>[]</td>\n",
       "    </tr>\n",
       "    <tr>\n",
       "      <th>4</th>\n",
       "      <td>15505</td>\n",
       "      <td>CONFIDENTIAL PORTIONS OMITTED EXHIBIT 10.16 [L...</td>\n",
       "      <td>[[78, 99, DOC_NAME], [105, 126, DOC_NAME], [18...</td>\n",
       "    </tr>\n",
       "    <tr>\n",
       "      <th>...</th>\n",
       "      <td>...</td>\n",
       "      <td>...</td>\n",
       "      <td>...</td>\n",
       "    </tr>\n",
       "    <tr>\n",
       "      <th>344</th>\n",
       "      <td>15845</td>\n",
       "      <td>STRATEGIC ALLIANCE AGREEMENT This Strategic Al...</td>\n",
       "      <td>[[0, 28, DOC_NAME], [34, 62, DOC_NAME], [113, ...</td>\n",
       "    </tr>\n",
       "    <tr>\n",
       "      <th>345</th>\n",
       "      <td>15846</td>\n",
       "      <td>Exhibit 10.41 SPONSORSHIP AGREEMENT This Spons...</td>\n",
       "      <td>[[14, 35, DOC_NAME], [41, 62, DOC_NAME], [107,...</td>\n",
       "    </tr>\n",
       "    <tr>\n",
       "      <th>346</th>\n",
       "      <td>15847</td>\n",
       "      <td>EXHIBIT 10.43 Dated 29/3/18 Distributorship ag...</td>\n",
       "      <td>[[20, 27, AGMT_DATE], [28, 53, DOC_NAME], [62,...</td>\n",
       "    </tr>\n",
       "    <tr>\n",
       "      <th>347</th>\n",
       "      <td>15848</td>\n",
       "      <td>CONTENT DISTRIBUTION AND LICENSE AGREEMENT Dea...</td>\n",
       "      <td>[]</td>\n",
       "    </tr>\n",
       "    <tr>\n",
       "      <th>348</th>\n",
       "      <td>15849</td>\n",
       "      <td>TREATMENT WITH RESPECT TO CERTAIN PORTIONS OF ...</td>\n",
       "      <td>[[123, 144, DOC_NAME], [200, 223, AGMT_DATE], ...</td>\n",
       "    </tr>\n",
       "  </tbody>\n",
       "</table>\n",
       "<p>349 rows × 3 columns</p>\n",
       "</div>\n",
       "    <div class=\"colab-df-buttons\">\n",
       "\n",
       "  <div class=\"colab-df-container\">\n",
       "    <button class=\"colab-df-convert\" onclick=\"convertToInteractive('df-a797031b-779c-4335-b107-d6f5be72e945')\"\n",
       "            title=\"Convert this dataframe to an interactive table.\"\n",
       "            style=\"display:none;\">\n",
       "\n",
       "  <svg xmlns=\"http://www.w3.org/2000/svg\" height=\"24px\" viewBox=\"0 -960 960 960\">\n",
       "    <path d=\"M120-120v-720h720v720H120Zm60-500h600v-160H180v160Zm220 220h160v-160H400v160Zm0 220h160v-160H400v160ZM180-400h160v-160H180v160Zm440 0h160v-160H620v160ZM180-180h160v-160H180v160Zm440 0h160v-160H620v160Z\"/>\n",
       "  </svg>\n",
       "    </button>\n",
       "\n",
       "  <style>\n",
       "    .colab-df-container {\n",
       "      display:flex;\n",
       "      gap: 12px;\n",
       "    }\n",
       "\n",
       "    .colab-df-convert {\n",
       "      background-color: #E8F0FE;\n",
       "      border: none;\n",
       "      border-radius: 50%;\n",
       "      cursor: pointer;\n",
       "      display: none;\n",
       "      fill: #1967D2;\n",
       "      height: 32px;\n",
       "      padding: 0 0 0 0;\n",
       "      width: 32px;\n",
       "    }\n",
       "\n",
       "    .colab-df-convert:hover {\n",
       "      background-color: #E2EBFA;\n",
       "      box-shadow: 0px 1px 2px rgba(60, 64, 67, 0.3), 0px 1px 3px 1px rgba(60, 64, 67, 0.15);\n",
       "      fill: #174EA6;\n",
       "    }\n",
       "\n",
       "    .colab-df-buttons div {\n",
       "      margin-bottom: 4px;\n",
       "    }\n",
       "\n",
       "    [theme=dark] .colab-df-convert {\n",
       "      background-color: #3B4455;\n",
       "      fill: #D2E3FC;\n",
       "    }\n",
       "\n",
       "    [theme=dark] .colab-df-convert:hover {\n",
       "      background-color: #434B5C;\n",
       "      box-shadow: 0px 1px 3px 1px rgba(0, 0, 0, 0.15);\n",
       "      filter: drop-shadow(0px 1px 2px rgba(0, 0, 0, 0.3));\n",
       "      fill: #FFFFFF;\n",
       "    }\n",
       "  </style>\n",
       "\n",
       "    <script>\n",
       "      const buttonEl =\n",
       "        document.querySelector('#df-a797031b-779c-4335-b107-d6f5be72e945 button.colab-df-convert');\n",
       "      buttonEl.style.display =\n",
       "        google.colab.kernel.accessAllowed ? 'block' : 'none';\n",
       "\n",
       "      async function convertToInteractive(key) {\n",
       "        const element = document.querySelector('#df-a797031b-779c-4335-b107-d6f5be72e945');\n",
       "        const dataTable =\n",
       "          await google.colab.kernel.invokeFunction('convertToInteractive',\n",
       "                                                    [key], {});\n",
       "        if (!dataTable) return;\n",
       "\n",
       "        const docLinkHtml = 'Like what you see? Visit the ' +\n",
       "          '<a target=\"_blank\" href=https://colab.research.google.com/notebooks/data_table.ipynb>data table notebook</a>'\n",
       "          + ' to learn more about interactive tables.';\n",
       "        element.innerHTML = '';\n",
       "        dataTable['output_type'] = 'display_data';\n",
       "        await google.colab.output.renderOutput(dataTable, element);\n",
       "        const docLink = document.createElement('div');\n",
       "        docLink.innerHTML = docLinkHtml;\n",
       "        element.appendChild(docLink);\n",
       "      }\n",
       "    </script>\n",
       "  </div>\n",
       "\n",
       "\n",
       "<div id=\"df-8bd95137-ee2a-42a6-a54a-615f5793a82a\">\n",
       "  <button class=\"colab-df-quickchart\" onclick=\"quickchart('df-8bd95137-ee2a-42a6-a54a-615f5793a82a')\"\n",
       "            title=\"Suggest charts.\"\n",
       "            style=\"display:none;\">\n",
       "\n",
       "<svg xmlns=\"http://www.w3.org/2000/svg\" height=\"24px\"viewBox=\"0 0 24 24\"\n",
       "     width=\"24px\">\n",
       "    <g>\n",
       "        <path d=\"M19 3H5c-1.1 0-2 .9-2 2v14c0 1.1.9 2 2 2h14c1.1 0 2-.9 2-2V5c0-1.1-.9-2-2-2zM9 17H7v-7h2v7zm4 0h-2V7h2v10zm4 0h-2v-4h2v4z\"/>\n",
       "    </g>\n",
       "</svg>\n",
       "  </button>\n",
       "\n",
       "<style>\n",
       "  .colab-df-quickchart {\n",
       "      --bg-color: #E8F0FE;\n",
       "      --fill-color: #1967D2;\n",
       "      --hover-bg-color: #E2EBFA;\n",
       "      --hover-fill-color: #174EA6;\n",
       "      --disabled-fill-color: #AAA;\n",
       "      --disabled-bg-color: #DDD;\n",
       "  }\n",
       "\n",
       "  [theme=dark] .colab-df-quickchart {\n",
       "      --bg-color: #3B4455;\n",
       "      --fill-color: #D2E3FC;\n",
       "      --hover-bg-color: #434B5C;\n",
       "      --hover-fill-color: #FFFFFF;\n",
       "      --disabled-bg-color: #3B4455;\n",
       "      --disabled-fill-color: #666;\n",
       "  }\n",
       "\n",
       "  .colab-df-quickchart {\n",
       "    background-color: var(--bg-color);\n",
       "    border: none;\n",
       "    border-radius: 50%;\n",
       "    cursor: pointer;\n",
       "    display: none;\n",
       "    fill: var(--fill-color);\n",
       "    height: 32px;\n",
       "    padding: 0;\n",
       "    width: 32px;\n",
       "  }\n",
       "\n",
       "  .colab-df-quickchart:hover {\n",
       "    background-color: var(--hover-bg-color);\n",
       "    box-shadow: 0 1px 2px rgba(60, 64, 67, 0.3), 0 1px 3px 1px rgba(60, 64, 67, 0.15);\n",
       "    fill: var(--button-hover-fill-color);\n",
       "  }\n",
       "\n",
       "  .colab-df-quickchart-complete:disabled,\n",
       "  .colab-df-quickchart-complete:disabled:hover {\n",
       "    background-color: var(--disabled-bg-color);\n",
       "    fill: var(--disabled-fill-color);\n",
       "    box-shadow: none;\n",
       "  }\n",
       "\n",
       "  .colab-df-spinner {\n",
       "    border: 2px solid var(--fill-color);\n",
       "    border-color: transparent;\n",
       "    border-bottom-color: var(--fill-color);\n",
       "    animation:\n",
       "      spin 1s steps(1) infinite;\n",
       "  }\n",
       "\n",
       "  @keyframes spin {\n",
       "    0% {\n",
       "      border-color: transparent;\n",
       "      border-bottom-color: var(--fill-color);\n",
       "      border-left-color: var(--fill-color);\n",
       "    }\n",
       "    20% {\n",
       "      border-color: transparent;\n",
       "      border-left-color: var(--fill-color);\n",
       "      border-top-color: var(--fill-color);\n",
       "    }\n",
       "    30% {\n",
       "      border-color: transparent;\n",
       "      border-left-color: var(--fill-color);\n",
       "      border-top-color: var(--fill-color);\n",
       "      border-right-color: var(--fill-color);\n",
       "    }\n",
       "    40% {\n",
       "      border-color: transparent;\n",
       "      border-right-color: var(--fill-color);\n",
       "      border-top-color: var(--fill-color);\n",
       "    }\n",
       "    60% {\n",
       "      border-color: transparent;\n",
       "      border-right-color: var(--fill-color);\n",
       "    }\n",
       "    80% {\n",
       "      border-color: transparent;\n",
       "      border-right-color: var(--fill-color);\n",
       "      border-bottom-color: var(--fill-color);\n",
       "    }\n",
       "    90% {\n",
       "      border-color: transparent;\n",
       "      border-bottom-color: var(--fill-color);\n",
       "    }\n",
       "  }\n",
       "</style>\n",
       "\n",
       "  <script>\n",
       "    async function quickchart(key) {\n",
       "      const quickchartButtonEl =\n",
       "        document.querySelector('#' + key + ' button');\n",
       "      quickchartButtonEl.disabled = true;  // To prevent multiple clicks.\n",
       "      quickchartButtonEl.classList.add('colab-df-spinner');\n",
       "      try {\n",
       "        const charts = await google.colab.kernel.invokeFunction(\n",
       "            'suggestCharts', [key], {});\n",
       "      } catch (error) {\n",
       "        console.error('Error during call to suggestCharts:', error);\n",
       "      }\n",
       "      quickchartButtonEl.classList.remove('colab-df-spinner');\n",
       "      quickchartButtonEl.classList.add('colab-df-quickchart-complete');\n",
       "    }\n",
       "    (() => {\n",
       "      let quickchartButtonEl =\n",
       "        document.querySelector('#df-8bd95137-ee2a-42a6-a54a-615f5793a82a button');\n",
       "      quickchartButtonEl.style.display =\n",
       "        google.colab.kernel.accessAllowed ? 'block' : 'none';\n",
       "    })();\n",
       "  </script>\n",
       "</div>\n",
       "    </div>\n",
       "  </div>\n"
      ],
      "text/plain": [
       "        id                                               text  \\\n",
       "0    15501  Exhibit 99.1 JOINT FILING AGREEMENT The unders...   \n",
       "1    15502  [LOGO] AMENDMENT TO SECTION 2, PART B OF THE C...   \n",
       "2    15503  Exhibit 10.1 ENDORSEMENT AGREEMENT THIS ENDORS...   \n",
       "3    15504  Exhibit 10.6 TRADEMARK LICENSE AGREEMENT This ...   \n",
       "4    15505  CONFIDENTIAL PORTIONS OMITTED EXHIBIT 10.16 [L...   \n",
       "..     ...                                                ...   \n",
       "344  15845  STRATEGIC ALLIANCE AGREEMENT This Strategic Al...   \n",
       "345  15846  Exhibit 10.41 SPONSORSHIP AGREEMENT This Spons...   \n",
       "346  15847  EXHIBIT 10.43 Dated 29/3/18 Distributorship ag...   \n",
       "347  15848  CONTENT DISTRIBUTION AND LICENSE AGREEMENT Dea...   \n",
       "348  15849  TREATMENT WITH RESPECT TO CERTAIN PORTIONS OF ...   \n",
       "\n",
       "                                                labels  \n",
       "0    [[13, 35, DOC_NAME], [489, 505, AGMT_DATE], [5...  \n",
       "1    [[7, 66, DOC_NAME], [166, 182, AGMT_DATE], [19...  \n",
       "2    [[13, 34, DOC_NAME], [40, 61, DOC_NAME], [111,...  \n",
       "3                                                   []  \n",
       "4    [[78, 99, DOC_NAME], [105, 126, DOC_NAME], [18...  \n",
       "..                                                 ...  \n",
       "344  [[0, 28, DOC_NAME], [34, 62, DOC_NAME], [113, ...  \n",
       "345  [[14, 35, DOC_NAME], [41, 62, DOC_NAME], [107,...  \n",
       "346  [[20, 27, AGMT_DATE], [28, 53, DOC_NAME], [62,...  \n",
       "347                                                 []  \n",
       "348  [[123, 144, DOC_NAME], [200, 223, AGMT_DATE], ...  \n",
       "\n",
       "[349 rows x 3 columns]"
      ]
     },
     "execution_count": 15,
     "metadata": {},
     "output_type": "execute_result"
    }
   ],
   "source": [
    "df=df.drop(['meta','annotation_approver','comments'],axis=1)\n",
    "df"
   ]
  },
  {
   "cell_type": "code",
   "execution_count": 16,
   "metadata": {
    "executionInfo": {
     "elapsed": 5,
     "status": "ok",
     "timestamp": 1697611048948,
     "user": {
      "displayName": "Priyanshu Goyal",
      "userId": "03450676628574741574"
     },
     "user_tz": -330
    },
    "id": "Bdn05Lu-t2DR"
   },
   "outputs": [],
   "source": [
    "df_cut=df[df['labels'].apply(lambda x:len(x)>0)]"
   ]
  },
  {
   "cell_type": "code",
   "execution_count": 18,
   "metadata": {
    "colab": {
     "base_uri": "https://localhost:8080/"
    },
    "executionInfo": {
     "elapsed": 409,
     "status": "ok",
     "timestamp": 1697611070449,
     "user": {
      "displayName": "Priyanshu Goyal",
      "userId": "03450676628574741574"
     },
     "user_tz": -330
    },
    "id": "r6DeAhRSt4XA",
    "outputId": "53dc94f1-412d-4cea-b65a-349638011941"
   },
   "outputs": [
    {
     "name": "stdout",
     "output_type": "stream",
     "text": [
      "<class 'pandas.core.frame.DataFrame'>\n",
      "Int64Index: 314 entries, 0 to 348\n",
      "Data columns (total 3 columns):\n",
      " #   Column  Non-Null Count  Dtype \n",
      "---  ------  --------------  ----- \n",
      " 0   id      314 non-null    int64 \n",
      " 1   text    314 non-null    object\n",
      " 2   labels  314 non-null    object\n",
      "dtypes: int64(1), object(2)\n",
      "memory usage: 9.8+ KB\n"
     ]
    }
   ],
   "source": [
    "df_cut.info()"
   ]
  },
  {
   "cell_type": "code",
   "execution_count": 19,
   "metadata": {
    "executionInfo": {
     "elapsed": 8,
     "status": "ok",
     "timestamp": 1697611071147,
     "user": {
      "displayName": "Priyanshu Goyal",
      "userId": "03450676628574741574"
     },
     "user_tz": -330
    },
    "id": "h_ha1QjRzBt8"
   },
   "outputs": [],
   "source": [
    "#nlp=pipeline('ner',model=model,tokenizer=tokenizer)"
   ]
  },
  {
   "cell_type": "code",
   "execution_count": 20,
   "metadata": {
    "colab": {
     "base_uri": "https://localhost:8080/"
    },
    "executionInfo": {
     "elapsed": 8823,
     "status": "ok",
     "timestamp": 1697611079963,
     "user": {
      "displayName": "Priyanshu Goyal",
      "userId": "03450676628574741574"
     },
     "user_tz": -330
    },
    "id": "LHqpRWxiw0Gt",
    "outputId": "30aa7258-0e2e-4cec-e3bb-9c127b5fc000"
   },
   "outputs": [
    {
     "name": "stderr",
     "output_type": "stream",
     "text": [
      "<ipython-input-20-1f7b6b45023e>:1: SettingWithCopyWarning: \n",
      "A value is trying to be set on a copy of a slice from a DataFrame.\n",
      "Try using .loc[row_indexer,col_indexer] = value instead\n",
      "\n",
      "See the caveats in the documentation: https://pandas.pydata.org/pandas-docs/stable/user_guide/indexing.html#returning-a-view-versus-a-copy\n",
      "  df_cut['token']=df_cut['text'].apply(lambda x:nlp(x))\n"
     ]
    }
   ],
   "source": [
    "\n",
    "df_cut['token']=df_cut['text'].apply(lambda x:nlp(x))"
   ]
  },
  {
   "cell_type": "code",
   "execution_count": 21,
   "metadata": {
    "colab": {
     "base_uri": "https://localhost:8080/"
    },
    "executionInfo": {
     "elapsed": 26,
     "status": "ok",
     "timestamp": 1697611079964,
     "user": {
      "displayName": "Priyanshu Goyal",
      "userId": "03450676628574741574"
     },
     "user_tz": -330
    },
    "id": "TvvCr01KzLJk",
    "outputId": "d691ec8c-02bd-44c9-9d22-ef3417fb56e3"
   },
   "outputs": [
    {
     "name": "stdout",
     "output_type": "stream",
     "text": [
      "12 28 DOC_NAME\n",
      "37 58 PARTY\n",
      "63 101 PARTY\n",
      "125 138 AGMT_DATE\n",
      "148 169 PARTY\n",
      "380 418 PARTY\n",
      "Exhibit 4.5 SUPPLY AGREEMENT between PROFOUND MEDICAL INC. and PHILIPS MEDICAL SYSTEMS NEDERLAND B.V. THIS AGREEMENT is made July 31, 2017 BETWEEN: PROFOUND MEDICAL INC., a company incorporated under the laws of the province of Ontario and having its registered address at 2400 Skymark, Unit 6, Mississauga, Ontario L4W 5K5, Canada (hereinafter referred to as “Customer”) - and - PHILIPS MEDICAL SYSTEMS NEDERLAND B.V., a company incorporated under the laws of the Netherlands with its principal place of business at Veenpluis 4-6 5684 PC Best, the Netherlands (hereinafter referred to as “Philips”) Customer and Philips hereinafter also collectively referred to as the “Parties” and individually as a “Party”. WHEREAS: A. Pursuant to the Asset and Share Purchase Agreement (the “Purchase Agreement”) entered into on June 30, 2017 by Customer, Koninklijke Philips NV (“Philips NV”) N.V. and Customer agreed to execute and deliver (or cause to be executed and delivered) certain ancillary agreements o\n"
     ]
    }
   ],
   "source": [
    "row = df_cut.iloc[4]\n",
    "doc = row['token']\n",
    "for start, end, label in row['labels']:\n",
    "    print(start, end, label)\n",
    "print(doc)"
   ]
  },
  {
   "cell_type": "code",
   "execution_count": 23,
   "metadata": {
    "colab": {
     "base_uri": "https://localhost:8080/",
     "height": 53
    },
    "executionInfo": {
     "elapsed": 674,
     "status": "ok",
     "timestamp": 1697611130684,
     "user": {
      "displayName": "Priyanshu Goyal",
      "userId": "03450676628574741574"
     },
     "user_tz": -330
    },
    "id": "blr8YMuJBpWP",
    "outputId": "98792fdc-6e82-40d6-dbcf-2e09c6187f87"
   },
   "outputs": [
    {
     "data": {
      "application/vnd.google.colaboratory.intrinsic+json": {
       "type": "string"
      },
      "text/plain": [
       "\"doc_name_count=0\\nparty_count=0\\ndate_count=0\\nfor index,row in df_cut.iterrows():\\n    for l in row['labels']:\\n        if l[2]==row\""
      ]
     },
     "execution_count": 23,
     "metadata": {},
     "output_type": "execute_result"
    }
   ],
   "source": [
    "'''doc_name_count=0\n",
    "party_count=0\n",
    "date_count=0\n",
    "for index,row in df_cut.iterrows():\n",
    "    for l in row['labels']:\n",
    "        if l[2]==row'''"
   ]
  },
  {
   "cell_type": "code",
   "execution_count": 24,
   "metadata": {
    "colab": {
     "base_uri": "https://localhost:8080/"
    },
    "executionInfo": {
     "elapsed": 770,
     "status": "ok",
     "timestamp": 1697611135178,
     "user": {
      "displayName": "Priyanshu Goyal",
      "userId": "03450676628574741574"
     },
     "user_tz": -330
    },
    "id": "PStAhQtXThzW",
    "outputId": "62282b67-ad53-4db6-9be6-fc2fb5b3c856"
   },
   "outputs": [
    {
     "name": "stderr",
     "output_type": "stream",
     "text": [
      "<ipython-input-24-1d3424116e9a>:24: SettingWithCopyWarning: \n",
      "A value is trying to be set on a copy of a slice from a DataFrame.\n",
      "Try using .loc[row_indexer,col_indexer] = value instead\n",
      "\n",
      "See the caveats in the documentation: https://pandas.pydata.org/pandas-docs/stable/user_guide/indexing.html#returning-a-view-versus-a-copy\n",
      "  df_cut['tags'] = tags_list_iob\n"
     ]
    }
   ],
   "source": [
    "tags_list_iob = []\n",
    "for index, row in df_cut.iterrows():\n",
    "    doc = row['token']\n",
    "    ents=[]\n",
    "    for start, end, label in row['labels']:\n",
    "        if doc.char_span(start, end, label) != None:\n",
    "            ent = doc.char_span(start, end, label)\n",
    "            ents.append(ent)\n",
    "        elif doc.char_span(start, end+1, label) != None:\n",
    "            ent = doc.char_span(start, end+1, label)\n",
    "            ents.append(ent)\n",
    "        elif doc.char_span(start+1, end, label) != None:\n",
    "            ent = doc.char_span(start+1, end, label)\n",
    "            ents.append(ent)\n",
    "        elif doc.char_span(start, end-1, label) != None:\n",
    "            ent = doc.char_span(start, end-1, label)\n",
    "            ents.append(ent)\n",
    "        elif doc.char_span(start-1, end, label) != None:\n",
    "            ent = doc.char_span(start-1, end, label)\n",
    "            ents.append(ent)\n",
    "    doc.ents = ents\n",
    "    iob_tags = [f\"{t.ent_iob_}-{t.ent_type_}\" if t.ent_iob_ != \"O\" else \"O\" for t in doc]\n",
    "    tags_list_iob.append(iob_tags)\n",
    "df_cut['tags'] = tags_list_iob"
   ]
  },
  {
   "cell_type": "code",
   "execution_count": 25,
   "metadata": {
    "colab": {
     "base_uri": "https://localhost:8080/",
     "height": 1000
    },
    "executionInfo": {
     "elapsed": 1039,
     "status": "ok",
     "timestamp": 1697611148497,
     "user": {
      "displayName": "Priyanshu Goyal",
      "userId": "03450676628574741574"
     },
     "user_tz": -330
    },
    "id": "3LV7ArZFTwvb",
    "outputId": "9159b47f-bea5-4ca6-bdc9-792e58005410"
   },
   "outputs": [
    {
     "data": {
      "text/html": [
       "\n",
       "  <div id=\"df-f4ebad98-9ba6-4271-883e-783cd99b6c4a\" class=\"colab-df-container\">\n",
       "    <div>\n",
       "<style scoped>\n",
       "    .dataframe tbody tr th:only-of-type {\n",
       "        vertical-align: middle;\n",
       "    }\n",
       "\n",
       "    .dataframe tbody tr th {\n",
       "        vertical-align: top;\n",
       "    }\n",
       "\n",
       "    .dataframe thead th {\n",
       "        text-align: right;\n",
       "    }\n",
       "</style>\n",
       "<table border=\"1\" class=\"dataframe\">\n",
       "  <thead>\n",
       "    <tr style=\"text-align: right;\">\n",
       "      <th></th>\n",
       "      <th>id</th>\n",
       "      <th>text</th>\n",
       "      <th>labels</th>\n",
       "      <th>token</th>\n",
       "      <th>tags</th>\n",
       "    </tr>\n",
       "  </thead>\n",
       "  <tbody>\n",
       "    <tr>\n",
       "      <th>0</th>\n",
       "      <td>15501</td>\n",
       "      <td>Exhibit 99.1 JOINT FILING AGREEMENT The unders...</td>\n",
       "      <td>[[13, 35, DOC_NAME], [489, 505, AGMT_DATE], [5...</td>\n",
       "      <td>(Exhibit, 99.1, JOINT, FILING, AGREEMENT, The,...</td>\n",
       "      <td>[O, O, B-DOC_NAME, I-DOC_NAME, I-DOC_NAME, O, ...</td>\n",
       "    </tr>\n",
       "    <tr>\n",
       "      <th>1</th>\n",
       "      <td>15502</td>\n",
       "      <td>[LOGO] AMENDMENT TO SECTION 2, PART B OF THE C...</td>\n",
       "      <td>[[7, 66, DOC_NAME], [166, 182, AGMT_DATE], [19...</td>\n",
       "      <td>([, LOGO, ], AMENDMENT, TO, SECTION, 2, ,, PAR...</td>\n",
       "      <td>[O, O, O, B-DOC_NAME, I-DOC_NAME, I-DOC_NAME, ...</td>\n",
       "    </tr>\n",
       "    <tr>\n",
       "      <th>2</th>\n",
       "      <td>15503</td>\n",
       "      <td>Exhibit 10.1 ENDORSEMENT AGREEMENT THIS ENDORS...</td>\n",
       "      <td>[[13, 34, DOC_NAME], [40, 61, DOC_NAME], [111,...</td>\n",
       "      <td>(Exhibit, 10.1, ENDORSEMENT, AGREEMENT, THIS, ...</td>\n",
       "      <td>[O, O, B-DOC_NAME, I-DOC_NAME, O, B-DOC_NAME, ...</td>\n",
       "    </tr>\n",
       "    <tr>\n",
       "      <th>4</th>\n",
       "      <td>15505</td>\n",
       "      <td>CONFIDENTIAL PORTIONS OMITTED EXHIBIT 10.16 [L...</td>\n",
       "      <td>[[78, 99, DOC_NAME], [105, 126, DOC_NAME], [18...</td>\n",
       "      <td>(CONFIDENTIAL, PORTIONS, OMITTED, EXHIBIT, 10....</td>\n",
       "      <td>[O, O, O, O, O, O, O, O, O, O, O, O, O, B-DOC_...</td>\n",
       "    </tr>\n",
       "    <tr>\n",
       "      <th>5</th>\n",
       "      <td>15506</td>\n",
       "      <td>Exhibit 4.5 SUPPLY AGREEMENT between PROFOUND ...</td>\n",
       "      <td>[[12, 28, DOC_NAME], [37, 58, PARTY], [63, 101...</td>\n",
       "      <td>(Exhibit, 4.5, SUPPLY, AGREEMENT, between, PRO...</td>\n",
       "      <td>[O, O, B-DOC_NAME, I-DOC_NAME, O, B-PARTY, I-P...</td>\n",
       "    </tr>\n",
       "    <tr>\n",
       "      <th>...</th>\n",
       "      <td>...</td>\n",
       "      <td>...</td>\n",
       "      <td>...</td>\n",
       "      <td>...</td>\n",
       "      <td>...</td>\n",
       "    </tr>\n",
       "    <tr>\n",
       "      <th>343</th>\n",
       "      <td>15844</td>\n",
       "      <td>Promotion Agreement Between PageMaster Corpora...</td>\n",
       "      <td>[[0, 19, DOC_NAME], [28, 50, PARTY], [55, 68, ...</td>\n",
       "      <td>(Promotion, Agreement, Between, PageMaster, Co...</td>\n",
       "      <td>[B-DOC_NAME, I-DOC_NAME, O, B-PARTY, I-PARTY, ...</td>\n",
       "    </tr>\n",
       "    <tr>\n",
       "      <th>344</th>\n",
       "      <td>15845</td>\n",
       "      <td>STRATEGIC ALLIANCE AGREEMENT This Strategic Al...</td>\n",
       "      <td>[[0, 28, DOC_NAME], [34, 62, DOC_NAME], [113, ...</td>\n",
       "      <td>(STRATEGIC, ALLIANCE, AGREEMENT, This, Strateg...</td>\n",
       "      <td>[B-DOC_NAME, I-DOC_NAME, I-DOC_NAME, O, B-DOC_...</td>\n",
       "    </tr>\n",
       "    <tr>\n",
       "      <th>345</th>\n",
       "      <td>15846</td>\n",
       "      <td>Exhibit 10.41 SPONSORSHIP AGREEMENT This Spons...</td>\n",
       "      <td>[[14, 35, DOC_NAME], [41, 62, DOC_NAME], [107,...</td>\n",
       "      <td>(Exhibit, 10.41, SPONSORSHIP, AGREEMENT, This,...</td>\n",
       "      <td>[O, O, B-DOC_NAME, I-DOC_NAME, O, B-DOC_NAME, ...</td>\n",
       "    </tr>\n",
       "    <tr>\n",
       "      <th>346</th>\n",
       "      <td>15847</td>\n",
       "      <td>EXHIBIT 10.43 Dated 29/3/18 Distributorship ag...</td>\n",
       "      <td>[[20, 27, AGMT_DATE], [28, 53, DOC_NAME], [62,...</td>\n",
       "      <td>(EXHIBIT, 10.43, Dated, 29/3/18, Distributorsh...</td>\n",
       "      <td>[O, O, O, B-AGMT_DATE, B-DOC_NAME, I-DOC_NAME,...</td>\n",
       "    </tr>\n",
       "    <tr>\n",
       "      <th>348</th>\n",
       "      <td>15849</td>\n",
       "      <td>TREATMENT WITH RESPECT TO CERTAIN PORTIONS OF ...</td>\n",
       "      <td>[[123, 144, DOC_NAME], [200, 223, AGMT_DATE], ...</td>\n",
       "      <td>(TREATMENT, WITH, RESPECT, TO, CERTAIN, PORTIO...</td>\n",
       "      <td>[O, O, O, O, O, O, O, O, O, O, O, O, O, O, O, ...</td>\n",
       "    </tr>\n",
       "  </tbody>\n",
       "</table>\n",
       "<p>314 rows × 5 columns</p>\n",
       "</div>\n",
       "    <div class=\"colab-df-buttons\">\n",
       "\n",
       "  <div class=\"colab-df-container\">\n",
       "    <button class=\"colab-df-convert\" onclick=\"convertToInteractive('df-f4ebad98-9ba6-4271-883e-783cd99b6c4a')\"\n",
       "            title=\"Convert this dataframe to an interactive table.\"\n",
       "            style=\"display:none;\">\n",
       "\n",
       "  <svg xmlns=\"http://www.w3.org/2000/svg\" height=\"24px\" viewBox=\"0 -960 960 960\">\n",
       "    <path d=\"M120-120v-720h720v720H120Zm60-500h600v-160H180v160Zm220 220h160v-160H400v160Zm0 220h160v-160H400v160ZM180-400h160v-160H180v160Zm440 0h160v-160H620v160ZM180-180h160v-160H180v160Zm440 0h160v-160H620v160Z\"/>\n",
       "  </svg>\n",
       "    </button>\n",
       "\n",
       "  <style>\n",
       "    .colab-df-container {\n",
       "      display:flex;\n",
       "      gap: 12px;\n",
       "    }\n",
       "\n",
       "    .colab-df-convert {\n",
       "      background-color: #E8F0FE;\n",
       "      border: none;\n",
       "      border-radius: 50%;\n",
       "      cursor: pointer;\n",
       "      display: none;\n",
       "      fill: #1967D2;\n",
       "      height: 32px;\n",
       "      padding: 0 0 0 0;\n",
       "      width: 32px;\n",
       "    }\n",
       "\n",
       "    .colab-df-convert:hover {\n",
       "      background-color: #E2EBFA;\n",
       "      box-shadow: 0px 1px 2px rgba(60, 64, 67, 0.3), 0px 1px 3px 1px rgba(60, 64, 67, 0.15);\n",
       "      fill: #174EA6;\n",
       "    }\n",
       "\n",
       "    .colab-df-buttons div {\n",
       "      margin-bottom: 4px;\n",
       "    }\n",
       "\n",
       "    [theme=dark] .colab-df-convert {\n",
       "      background-color: #3B4455;\n",
       "      fill: #D2E3FC;\n",
       "    }\n",
       "\n",
       "    [theme=dark] .colab-df-convert:hover {\n",
       "      background-color: #434B5C;\n",
       "      box-shadow: 0px 1px 3px 1px rgba(0, 0, 0, 0.15);\n",
       "      filter: drop-shadow(0px 1px 2px rgba(0, 0, 0, 0.3));\n",
       "      fill: #FFFFFF;\n",
       "    }\n",
       "  </style>\n",
       "\n",
       "    <script>\n",
       "      const buttonEl =\n",
       "        document.querySelector('#df-f4ebad98-9ba6-4271-883e-783cd99b6c4a button.colab-df-convert');\n",
       "      buttonEl.style.display =\n",
       "        google.colab.kernel.accessAllowed ? 'block' : 'none';\n",
       "\n",
       "      async function convertToInteractive(key) {\n",
       "        const element = document.querySelector('#df-f4ebad98-9ba6-4271-883e-783cd99b6c4a');\n",
       "        const dataTable =\n",
       "          await google.colab.kernel.invokeFunction('convertToInteractive',\n",
       "                                                    [key], {});\n",
       "        if (!dataTable) return;\n",
       "\n",
       "        const docLinkHtml = 'Like what you see? Visit the ' +\n",
       "          '<a target=\"_blank\" href=https://colab.research.google.com/notebooks/data_table.ipynb>data table notebook</a>'\n",
       "          + ' to learn more about interactive tables.';\n",
       "        element.innerHTML = '';\n",
       "        dataTable['output_type'] = 'display_data';\n",
       "        await google.colab.output.renderOutput(dataTable, element);\n",
       "        const docLink = document.createElement('div');\n",
       "        docLink.innerHTML = docLinkHtml;\n",
       "        element.appendChild(docLink);\n",
       "      }\n",
       "    </script>\n",
       "  </div>\n",
       "\n",
       "\n",
       "<div id=\"df-472a107a-a716-4d15-8667-7024d23a09a9\">\n",
       "  <button class=\"colab-df-quickchart\" onclick=\"quickchart('df-472a107a-a716-4d15-8667-7024d23a09a9')\"\n",
       "            title=\"Suggest charts.\"\n",
       "            style=\"display:none;\">\n",
       "\n",
       "<svg xmlns=\"http://www.w3.org/2000/svg\" height=\"24px\"viewBox=\"0 0 24 24\"\n",
       "     width=\"24px\">\n",
       "    <g>\n",
       "        <path d=\"M19 3H5c-1.1 0-2 .9-2 2v14c0 1.1.9 2 2 2h14c1.1 0 2-.9 2-2V5c0-1.1-.9-2-2-2zM9 17H7v-7h2v7zm4 0h-2V7h2v10zm4 0h-2v-4h2v4z\"/>\n",
       "    </g>\n",
       "</svg>\n",
       "  </button>\n",
       "\n",
       "<style>\n",
       "  .colab-df-quickchart {\n",
       "      --bg-color: #E8F0FE;\n",
       "      --fill-color: #1967D2;\n",
       "      --hover-bg-color: #E2EBFA;\n",
       "      --hover-fill-color: #174EA6;\n",
       "      --disabled-fill-color: #AAA;\n",
       "      --disabled-bg-color: #DDD;\n",
       "  }\n",
       "\n",
       "  [theme=dark] .colab-df-quickchart {\n",
       "      --bg-color: #3B4455;\n",
       "      --fill-color: #D2E3FC;\n",
       "      --hover-bg-color: #434B5C;\n",
       "      --hover-fill-color: #FFFFFF;\n",
       "      --disabled-bg-color: #3B4455;\n",
       "      --disabled-fill-color: #666;\n",
       "  }\n",
       "\n",
       "  .colab-df-quickchart {\n",
       "    background-color: var(--bg-color);\n",
       "    border: none;\n",
       "    border-radius: 50%;\n",
       "    cursor: pointer;\n",
       "    display: none;\n",
       "    fill: var(--fill-color);\n",
       "    height: 32px;\n",
       "    padding: 0;\n",
       "    width: 32px;\n",
       "  }\n",
       "\n",
       "  .colab-df-quickchart:hover {\n",
       "    background-color: var(--hover-bg-color);\n",
       "    box-shadow: 0 1px 2px rgba(60, 64, 67, 0.3), 0 1px 3px 1px rgba(60, 64, 67, 0.15);\n",
       "    fill: var(--button-hover-fill-color);\n",
       "  }\n",
       "\n",
       "  .colab-df-quickchart-complete:disabled,\n",
       "  .colab-df-quickchart-complete:disabled:hover {\n",
       "    background-color: var(--disabled-bg-color);\n",
       "    fill: var(--disabled-fill-color);\n",
       "    box-shadow: none;\n",
       "  }\n",
       "\n",
       "  .colab-df-spinner {\n",
       "    border: 2px solid var(--fill-color);\n",
       "    border-color: transparent;\n",
       "    border-bottom-color: var(--fill-color);\n",
       "    animation:\n",
       "      spin 1s steps(1) infinite;\n",
       "  }\n",
       "\n",
       "  @keyframes spin {\n",
       "    0% {\n",
       "      border-color: transparent;\n",
       "      border-bottom-color: var(--fill-color);\n",
       "      border-left-color: var(--fill-color);\n",
       "    }\n",
       "    20% {\n",
       "      border-color: transparent;\n",
       "      border-left-color: var(--fill-color);\n",
       "      border-top-color: var(--fill-color);\n",
       "    }\n",
       "    30% {\n",
       "      border-color: transparent;\n",
       "      border-left-color: var(--fill-color);\n",
       "      border-top-color: var(--fill-color);\n",
       "      border-right-color: var(--fill-color);\n",
       "    }\n",
       "    40% {\n",
       "      border-color: transparent;\n",
       "      border-right-color: var(--fill-color);\n",
       "      border-top-color: var(--fill-color);\n",
       "    }\n",
       "    60% {\n",
       "      border-color: transparent;\n",
       "      border-right-color: var(--fill-color);\n",
       "    }\n",
       "    80% {\n",
       "      border-color: transparent;\n",
       "      border-right-color: var(--fill-color);\n",
       "      border-bottom-color: var(--fill-color);\n",
       "    }\n",
       "    90% {\n",
       "      border-color: transparent;\n",
       "      border-bottom-color: var(--fill-color);\n",
       "    }\n",
       "  }\n",
       "</style>\n",
       "\n",
       "  <script>\n",
       "    async function quickchart(key) {\n",
       "      const quickchartButtonEl =\n",
       "        document.querySelector('#' + key + ' button');\n",
       "      quickchartButtonEl.disabled = true;  // To prevent multiple clicks.\n",
       "      quickchartButtonEl.classList.add('colab-df-spinner');\n",
       "      try {\n",
       "        const charts = await google.colab.kernel.invokeFunction(\n",
       "            'suggestCharts', [key], {});\n",
       "      } catch (error) {\n",
       "        console.error('Error during call to suggestCharts:', error);\n",
       "      }\n",
       "      quickchartButtonEl.classList.remove('colab-df-spinner');\n",
       "      quickchartButtonEl.classList.add('colab-df-quickchart-complete');\n",
       "    }\n",
       "    (() => {\n",
       "      let quickchartButtonEl =\n",
       "        document.querySelector('#df-472a107a-a716-4d15-8667-7024d23a09a9 button');\n",
       "      quickchartButtonEl.style.display =\n",
       "        google.colab.kernel.accessAllowed ? 'block' : 'none';\n",
       "    })();\n",
       "  </script>\n",
       "</div>\n",
       "    </div>\n",
       "  </div>\n"
      ],
      "text/plain": [
       "        id                                               text  \\\n",
       "0    15501  Exhibit 99.1 JOINT FILING AGREEMENT The unders...   \n",
       "1    15502  [LOGO] AMENDMENT TO SECTION 2, PART B OF THE C...   \n",
       "2    15503  Exhibit 10.1 ENDORSEMENT AGREEMENT THIS ENDORS...   \n",
       "4    15505  CONFIDENTIAL PORTIONS OMITTED EXHIBIT 10.16 [L...   \n",
       "5    15506  Exhibit 4.5 SUPPLY AGREEMENT between PROFOUND ...   \n",
       "..     ...                                                ...   \n",
       "343  15844  Promotion Agreement Between PageMaster Corpora...   \n",
       "344  15845  STRATEGIC ALLIANCE AGREEMENT This Strategic Al...   \n",
       "345  15846  Exhibit 10.41 SPONSORSHIP AGREEMENT This Spons...   \n",
       "346  15847  EXHIBIT 10.43 Dated 29/3/18 Distributorship ag...   \n",
       "348  15849  TREATMENT WITH RESPECT TO CERTAIN PORTIONS OF ...   \n",
       "\n",
       "                                                labels  \\\n",
       "0    [[13, 35, DOC_NAME], [489, 505, AGMT_DATE], [5...   \n",
       "1    [[7, 66, DOC_NAME], [166, 182, AGMT_DATE], [19...   \n",
       "2    [[13, 34, DOC_NAME], [40, 61, DOC_NAME], [111,...   \n",
       "4    [[78, 99, DOC_NAME], [105, 126, DOC_NAME], [18...   \n",
       "5    [[12, 28, DOC_NAME], [37, 58, PARTY], [63, 101...   \n",
       "..                                                 ...   \n",
       "343  [[0, 19, DOC_NAME], [28, 50, PARTY], [55, 68, ...   \n",
       "344  [[0, 28, DOC_NAME], [34, 62, DOC_NAME], [113, ...   \n",
       "345  [[14, 35, DOC_NAME], [41, 62, DOC_NAME], [107,...   \n",
       "346  [[20, 27, AGMT_DATE], [28, 53, DOC_NAME], [62,...   \n",
       "348  [[123, 144, DOC_NAME], [200, 223, AGMT_DATE], ...   \n",
       "\n",
       "                                                 token  \\\n",
       "0    (Exhibit, 99.1, JOINT, FILING, AGREEMENT, The,...   \n",
       "1    ([, LOGO, ], AMENDMENT, TO, SECTION, 2, ,, PAR...   \n",
       "2    (Exhibit, 10.1, ENDORSEMENT, AGREEMENT, THIS, ...   \n",
       "4    (CONFIDENTIAL, PORTIONS, OMITTED, EXHIBIT, 10....   \n",
       "5    (Exhibit, 4.5, SUPPLY, AGREEMENT, between, PRO...   \n",
       "..                                                 ...   \n",
       "343  (Promotion, Agreement, Between, PageMaster, Co...   \n",
       "344  (STRATEGIC, ALLIANCE, AGREEMENT, This, Strateg...   \n",
       "345  (Exhibit, 10.41, SPONSORSHIP, AGREEMENT, This,...   \n",
       "346  (EXHIBIT, 10.43, Dated, 29/3/18, Distributorsh...   \n",
       "348  (TREATMENT, WITH, RESPECT, TO, CERTAIN, PORTIO...   \n",
       "\n",
       "                                                  tags  \n",
       "0    [O, O, B-DOC_NAME, I-DOC_NAME, I-DOC_NAME, O, ...  \n",
       "1    [O, O, O, B-DOC_NAME, I-DOC_NAME, I-DOC_NAME, ...  \n",
       "2    [O, O, B-DOC_NAME, I-DOC_NAME, O, B-DOC_NAME, ...  \n",
       "4    [O, O, O, O, O, O, O, O, O, O, O, O, O, B-DOC_...  \n",
       "5    [O, O, B-DOC_NAME, I-DOC_NAME, O, B-PARTY, I-P...  \n",
       "..                                                 ...  \n",
       "343  [B-DOC_NAME, I-DOC_NAME, O, B-PARTY, I-PARTY, ...  \n",
       "344  [B-DOC_NAME, I-DOC_NAME, I-DOC_NAME, O, B-DOC_...  \n",
       "345  [O, O, B-DOC_NAME, I-DOC_NAME, O, B-DOC_NAME, ...  \n",
       "346  [O, O, O, B-AGMT_DATE, B-DOC_NAME, I-DOC_NAME,...  \n",
       "348  [O, O, O, O, O, O, O, O, O, O, O, O, O, O, O, ...  \n",
       "\n",
       "[314 rows x 5 columns]"
      ]
     },
     "execution_count": 25,
     "metadata": {},
     "output_type": "execute_result"
    }
   ],
   "source": [
    "df_cut"
   ]
  },
  {
   "cell_type": "code",
   "execution_count": 26,
   "metadata": {
    "colab": {
     "base_uri": "https://localhost:8080/"
    },
    "executionInfo": {
     "elapsed": 715,
     "status": "ok",
     "timestamp": 1697611154612,
     "user": {
      "displayName": "Priyanshu Goyal",
      "userId": "03450676628574741574"
     },
     "user_tz": -330
    },
    "id": "ox0NPfLYUhbv",
    "outputId": "a757cfa4-7f51-475a-de0f-6b4f88257351"
   },
   "outputs": [
    {
     "name": "stdout",
     "output_type": "stream",
     "text": [
      "['B-AGMT_DATE', 'B-DOC_NAME', 'B-PARTY', 'I-AGMT_DATE', 'I-DOC_NAME', 'I-PARTY', 'O']\n"
     ]
    }
   ],
   "source": [
    "all_tags = list(itertools.chain.from_iterable(tags_list_iob))\n",
    "\n",
    "def unique(list1):\n",
    "    # insert the list to the set\n",
    "    list_set = set(list1)\n",
    "    # convert the set to the list\n",
    "    unique_list = (list(list_set))\n",
    "    unique_list.sort()\n",
    "    return unique_list\n",
    "\n",
    "feature_class_labels = unique(all_tags)\n",
    "print(feature_class_labels)"
   ]
  },
  {
   "cell_type": "code",
   "execution_count": 31,
   "metadata": {
    "executionInfo": {
     "elapsed": 621,
     "status": "ok",
     "timestamp": 1697611522003,
     "user": {
      "displayName": "Priyanshu Goyal",
      "userId": "03450676628574741574"
     },
     "user_tz": -330
    },
    "id": "dBkFOuCVZ3qJ"
   },
   "outputs": [],
   "source": [
    "with open('Feature_class_labels.json','w') as f:\n",
    "   json.dump(feature_class_labels,f,indent=3)\n"
   ]
  },
  {
   "cell_type": "code",
   "execution_count": 32,
   "metadata": {
    "colab": {
     "base_uri": "https://localhost:8080/"
    },
    "executionInfo": {
     "elapsed": 1106,
     "status": "ok",
     "timestamp": 1697611527720,
     "user": {
      "displayName": "Priyanshu Goyal",
      "userId": "03450676628574741574"
     },
     "user_tz": -330
    },
    "id": "CCp99PrmZ5nx",
    "outputId": "f00fba31-384f-492e-f97a-dc5a9db202c8"
   },
   "outputs": [
    {
     "name": "stderr",
     "output_type": "stream",
     "text": [
      "<ipython-input-32-4de745ea7f15>:1: SettingWithCopyWarning: \n",
      "A value is trying to be set on a copy of a slice from a DataFrame.\n",
      "Try using .loc[row_indexer,col_indexer] = value instead\n",
      "\n",
      "See the caveats in the documentation: https://pandas.pydata.org/pandas-docs/stable/user_guide/indexing.html#returning-a-view-versus-a-copy\n",
      "  df_cut['splited_token']=df_cut['token'].apply(lambda y:[tex.text for tex in y])\n",
      "<ipython-input-32-4de745ea7f15>:2: SettingWithCopyWarning: \n",
      "A value is trying to be set on a copy of a slice from a DataFrame.\n",
      "Try using .loc[row_indexer,col_indexer] = value instead\n",
      "\n",
      "See the caveats in the documentation: https://pandas.pydata.org/pandas-docs/stable/user_guide/indexing.html#returning-a-view-versus-a-copy\n",
      "  df_cut[\"ner_tags\"]=df_cut['tags'].apply(lambda x:[feature_class_labels.index(tag) for tag in x])\n"
     ]
    }
   ],
   "source": [
    "df_cut['splited_token']=df_cut['token'].apply(lambda y:[tex.text for tex in y])\n",
    "df_cut[\"ner_tags\"]=df_cut['tags'].apply(lambda x:[feature_class_labels.index(tag) for tag in x])"
   ]
  },
  {
   "cell_type": "code",
   "execution_count": 33,
   "metadata": {
    "executionInfo": {
     "elapsed": 6,
     "status": "ok",
     "timestamp": 1697611535278,
     "user": {
      "displayName": "Priyanshu Goyal",
      "userId": "03450676628574741574"
     },
     "user_tz": -330
    },
    "id": "D3V8Vq73GwfG"
   },
   "outputs": [],
   "source": [
    "data=df_cut[['id','ner_tags','splited_token']]"
   ]
  },
  {
   "cell_type": "code",
   "execution_count": 38,
   "metadata": {
    "executionInfo": {
     "elapsed": 992,
     "status": "ok",
     "timestamp": 1697611636995,
     "user": {
      "displayName": "Priyanshu Goyal",
      "userId": "03450676628574741574"
     },
     "user_tz": -330
    },
    "id": "jXSa3KU9hIcz"
   },
   "outputs": [],
   "source": [
    "with open('Data_ner_n.json','w') as f:\n",
    "    data.to_json(f )"
   ]
  },
  {
   "cell_type": "code",
   "execution_count": null,
   "metadata": {
    "executionInfo": {
     "elapsed": 19,
     "status": "aborted",
     "timestamp": 1697611079970,
     "user": {
      "displayName": "Priyanshu Goyal",
      "userId": "03450676628574741574"
     },
     "user_tz": -330
    },
    "id": "xr9MPsmohb-d"
   },
   "outputs": [],
   "source": []
  },
  {
   "cell_type": "code",
   "execution_count": null,
   "metadata": {
    "executionInfo": {
     "elapsed": 20,
     "status": "aborted",
     "timestamp": 1697611079971,
     "user": {
      "displayName": "Priyanshu Goyal",
      "userId": "03450676628574741574"
     },
     "user_tz": -330
    },
    "id": "E2-7qvNIhlQW"
   },
   "outputs": [],
   "source": []
  },
  {
   "cell_type": "code",
   "execution_count": null,
   "metadata": {
    "executionInfo": {
     "elapsed": 20,
     "status": "aborted",
     "timestamp": 1697611079971,
     "user": {
      "displayName": "Priyanshu Goyal",
      "userId": "03450676628574741574"
     },
     "user_tz": -330
    },
    "id": "FSRiDRLosEuN"
   },
   "outputs": [],
   "source": []
  }
 ],
 "metadata": {
  "colab": {
   "authorship_tag": "ABX9TyMT+kL4h6ByEPVZubgLlAss",
   "provenance": []
  },
  "kernelspec": {
   "display_name": "Python 3 (ipykernel)",
   "language": "python",
   "name": "python3"
  },
  "language_info": {
   "codemirror_mode": {
    "name": "ipython",
    "version": 3
   },
   "file_extension": ".py",
   "mimetype": "text/x-python",
   "name": "python",
   "nbconvert_exporter": "python",
   "pygments_lexer": "ipython3",
   "version": "3.10.12"
  }
 },
 "nbformat": 4,
 "nbformat_minor": 4
}
